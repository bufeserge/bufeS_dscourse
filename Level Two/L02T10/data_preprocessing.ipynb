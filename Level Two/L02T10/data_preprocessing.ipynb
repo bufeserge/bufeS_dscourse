{
 "cells": [
  {
   "cell_type": "markdown",
   "metadata": {},
   "source": [
    "# Compulsory Task 1: Data Preprocessing (Missing Data)\n",
    "\n",
    "### my plan before starting this task:\n",
    "- in this task, i need to explore a dataset that may contain missing data.\n",
    "- i'll start by loading the csv file and printing out the first few rows to see what it looks like.\n",
    "- then, i'll check which columns have missing values and how many of them there are.\n",
    "- after that, i’ll write a short explanation about why i think data is missing in specific columns,\n",
    "  and classify those types of missingness using mcar, mar, or mnar."
   ]
  },
  {
   "cell_type": "code",
   "execution_count": null,
   "metadata": {},
   "outputs": [],
   "source": [
    "# i'm importing pandas to help me work with the csv data as a table (DataFrame)\n",
    "import pandas as pd"
   ]
  },
  {
   "cell_type": "code",
   "execution_count": null,
   "metadata": {},
   "outputs": [],
   "source": [
    "# i'm loading the dataset into a DataFrame so that i can inspect and manipulate the data\n",
    "df = pd.read_csv('store_income_data_task.csv')"
   ]
  },
  {
   "cell_type": "code",
   "execution_count": null,
   "metadata": {},
   "outputs": [],
   "source": [
    "# i'm displaying the first five rows of the data to get an idea of what it looks like\n",
    "df.head()"
   ]
  },
  {
   "cell_type": "code",
   "execution_count": null,
   "metadata": {},
   "outputs": [],
   "source": [
    "# here, i'm checking how many missing values there are in each column of the dataset\n",
    "# this tells me where the problems are in the data\n",
    "missing_values = df.isnull().sum()"
   ]
  },
  {
   "cell_type": "code",
   "execution_count": null,
   "metadata": {},
   "outputs": [],
   "source": [
    "# i'm printing out the result so i can see which columns are affected\n",
    "print(\"Missing values per column:\")\n",
    "print(missing_values)"
   ]
  },
  {
   "cell_type": "markdown",
   "metadata": {},
   "source": [
    "### Why do we have missing data in the following columns?\n",
    "\n",
    "**1. store_email**  \n",
    "Possible reason: Emails might not have been recorded for every store. Some stores might be new or inactive, and their contact info was never entered.  \n",
    "**Type of missingness:** Missing Completely at Random (MCAR) – there's no pattern, it’s just missing.\n",
    "\n",
    "**2. department**  \n",
    "Possible reason: The store may not belong to a department, or the data entry for it was skipped. It could also depend on the store type or region.  \n",
    "**Type of missingness:** Missing at Random (MAR) – it might be related to another variable like store_type or location.\n",
    "\n",
    "**3. country**  \n",
    "Possible reason: The data might be missing for some stores due to human error or system integration issues, especially if pulled from multiple sources.  \n",
    "**Type of missingness:** Missing Not at Random (MNAR) – possibly due to factors not recorded in the dataset."
   ]
  }
 ],
 "metadata": {
  "kernelspec": {
   "display_name": "Python 3",
   "language": "python",
   "name": "python3"
  },
  "language_info": {
   "name": "python",
   "version": "3.x"
  }
 },
 "nbformat": 4,
 "nbformat_minor": 5
}
