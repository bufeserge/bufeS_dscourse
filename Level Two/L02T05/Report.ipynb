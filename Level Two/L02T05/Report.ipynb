{
 "cells": [
  {
   "cell_type": "code",
   "execution_count": null,
   "metadata": {
    "id": "h0LVvvnfJsg5"
   },
   "outputs": [],
   "source": [
    "import pandas as pd  # Importing the pandas library to work with data in DataFrame format\n",
    "\n",
    "# Reading the contents of 'balance.txt' into a pandas DataFrame\n",
    "# The file uses whitespace (tabs or spaces) as the delimiter between columns\n",
    "df = pd.read_csv('balance.txt', delim_whitespace=True)\n",
    "\n",
    "# Displaying the first few rows of the DataFrame to verify it loaded correctly\n",
    "df.head()"
   ]
  },
  {
   "cell_type": "code",
   "execution_count": null,
   "metadata": {
    "id": "rv2oLRnPK36J"
   },
   "outputs": [],
   "source": [
    "# Grouping the data by the 'Ethnicity' column\n",
    "# Then calculating the average (mean) income within each ethnicity group\n",
    "# Gives us insight into income levels by ethnic category\n",
    "df.groupby('Ethnicity')['Income'].mean()\n",
    "\n",
    "\n"
   ]
  },
  {
   "cell_type": "code",
   "execution_count": null,
   "metadata": {},
   "outputs": [],
   "source": [
    "# Grouping the data based on the 'Married' column, which contains 'Yes' or 'No'\n",
    "# Calculating the average balance for married and single people separately\n",
    "# Helps compare spending habits or debt levels by marital status\n",
    "df.groupby('Married')['Balance'].mean()"
   ]
  },
  {
   "cell_type": "code",
   "execution_count": null,
   "metadata": {},
   "outputs": [],
   "source": [
    "# Accessing the 'Income' column and finding the maximum value\n",
    "# This returns the highest income value recorded in the dataset\n",
    "df['Income'].max()"
   ]
  },
  {
   "cell_type": "code",
   "execution_count": null,
   "metadata": {},
   "outputs": [],
   "source": [
    "# Accessing the 'Income' column and finding the minimum value\n",
    "# This returns the lowest income value in the dataset\n",
    "df['Income'].min()"
   ]
  },
  {
   "cell_type": "code",
   "execution_count": null,
   "metadata": {},
   "outputs": [],
   "source": [
    "# Summing up the 'Cards' column\n",
    "# This gives the total number of credit cards owned by all individuals in the dataset\n",
    "df['Cards'].sum()"
   ]
  },
  {
   "cell_type": "code",
   "execution_count": null,
   "metadata": {},
   "outputs": [],
   "source": [
    "# Counting how many times each unique value appears in the 'Gender' column\n",
    "# Useful to see how many males and females are present in the dataset\n",
    "df['Gender'].value_counts()"
   ]
  },
  {
   "cell_type": "markdown",
   "metadata": {
    "id": "_LXpBJXZLYoh"
   },
   "source": [
    "Write the code needed to produce a report that provides the following information:\n",
    "* Compare the average income based on ethnicity. \n",
    "* On average, do married or single people have a higher balance?\n",
    "* What is the highest income in our dataset?\n",
    "* What is the lowest income in our dataset?\n",
    "* How many cards do we have recorded in our dataset? (Hint: use `sum()`)\n",
    "* How many females do we have information for vs how many males? (Hint: use `count()`For a list of all methods for computation of descriptive stats, explore the [pandas documentation](https://pandas.pydata.org/pandas-docs/stable/reference/frame.html#computations-descriptive-stats)). \n",
    "\n",
    "\n"
   ]
  }
 ],
 "metadata": {
  "colab": {
   "authorship_tag": "ABX9TyP5J3xG1JXUCQAkP9OLQqdU",
   "provenance": []
  },
  "kernelspec": {
   "display_name": "Python 3",
   "name": "python3"
  },
  "language_info": {
   "codemirror_mode": {
    "name": "ipython",
    "version": 3
   },
   "file_extension": ".py",
   "mimetype": "text/x-python",
   "name": "python",
   "nbconvert_exporter": "python",
   "pygments_lexer": "ipython3",
   "version": "3.9.6"
  }
 },
 "nbformat": 4,
 "nbformat_minor": 0
}
