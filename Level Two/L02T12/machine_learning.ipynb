{
 "cells": [
  {
   "cell_type": "markdown",
   "metadata": {},
   "source": [
    "# Machine Learning – Compulsory Task 1\n",
    "\n",
    "### before starting this task:\n",
    "i'm going to answer theory questions about machine learning.\n",
    "i'll look at different types of ml tasks like classification and regression,\n",
    "and decide when supervised, unsupervised, or semi-supervised learning makes sense.\n",
    "i’ll think about real-world examples like self-driving cars or medical diagnosis,\n",
    "and describe what inputs/outputs they’d use, and what learning method would apply."
   ]
  },
  {
   "cell_type": "markdown",
   "metadata": {},
   "source": [
    "## Question 1: Inputs and Outputs\n",
    "**1.1. Self-driving car**  \n",
    "- Input: Camera images, LIDAR data, GPS  \n",
    "- Output: Steering angle, speed, brake decisions  \n",
    "- Justification: Inputs represent the car’s sensory perception, outputs represent control actions.\n",
    "\n",
    "**1.2. Netflix recommendation system**  \n",
    "- Input: User viewing history, ratings, genres  \n",
    "- Output: Suggested movie/show  \n",
    "- Justification: The system predicts which content the user is likely to enjoy.\n",
    "\n",
    "**1.3. Signature recognition**  \n",
    "- Input: Scanned image of a signature  \n",
    "- Output: Identity verification (valid/invalid)  \n",
    "- Justification: The input is an image, the output is a binary classification.\n",
    "\n",
    "**1.4. Medical diagnosis**  \n",
    "- Input: Test results, symptoms, patient history  \n",
    "- Output: Diagnosis of disease  \n",
    "- Justification: Predicting a category (disease), based on medical inputs."
   ]
  },
  {
   "cell_type": "markdown",
   "metadata": {},
   "source": [
    "## Question 2: Regression or Classification\n",
    "**2.1. Classifying emails**  \n",
    "- Use: Classification  \n",
    "- Justification: Output is a category like “promotional” or “social”.\n",
    "\n",
    "**2.2. Forecasting stock price**  \n",
    "- Use: Regression  \n",
    "- Justification: Stock price is a continuous numeric value.\n",
    "\n",
    "**2.3. Sorting animal images**  \n",
    "- Use: Classification  \n",
    "- Justification: Output is a class (e.g. dog, cat, lion, etc.).\n",
    "\n",
    "**2.4. Predicting disease likelihood**  \n",
    "- Use: Classification  \n",
    "- Justification: Output is a class label (has disease or doesn’t)."
   ]
  },
  {
   "cell_type": "markdown",
   "metadata": {},
   "source": [
    "## Question 3: Supervised or Unsupervised\n",
    "**3.1. Detecting anomalies without labels**  \n",
    "- Use: Unsupervised  \n",
    "- Justification: No known output labels (you’re discovering patterns/anomalies).\n",
    "\n",
    "**3.2. Predicting customer lifetime value**  \n",
    "- Use: Supervised  \n",
    "- Justification: Training data has known past outcomes (target variable).\n",
    "\n",
    "**3.3. Segmenting customer demographics**  \n",
    "- Use: Unsupervised  \n",
    "- Justification: No pre-defined groups; model discovers structure itself.\n",
    "\n",
    "**3.4. Categorising social media posts**  \n",
    "- Use: Supervised  \n",
    "- Justification: You likely have labelled training data (e.g. topic tags)."
   ]
  },
  {
   "cell_type": "markdown",
   "metadata": {},
   "source": [
    "## Question 4: Semi-Supervised Appropriateness\n",
    "**4.1. Fraud detection with mostly labelled data**  \n",
    "- Use: Not Appropriate  \n",
    "- Justification: If the data is mostly labelled, supervised learning works better.\n",
    "\n",
    "**4.2. Customer surveys with few labelled ratings**  \n",
    "- Use: Appropriate  \n",
    "- Justification: Semi-supervised helps make use of unlabelled responses.\n",
    "\n",
    "**4.3. Spam detection with majority of data labelled**  \n",
    "- Use: Not Appropriate  \n",
    "- Justification: Again, if most is labelled, supervised learning suffices.\n",
    "\n",
    "**4.4. Predicting credit default with full data**  \n",
    "- Use: Not Appropriate  \n",
    "- Justification: Fully labelled data means supervised learning is preferred."
   ]
  }
 ],
 "metadata": {
  "kernelspec": {
   "display_name": "Python 3",
   "language": "python",
   "name": "python3"
  },
  "language_info": {
   "name": "python",
   "version": "3.x"
  }
 },
 "nbformat": 4,
 "nbformat_minor": 5
}
