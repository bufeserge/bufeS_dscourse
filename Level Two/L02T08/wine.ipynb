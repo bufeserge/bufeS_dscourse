{
 "cells": [
  {
   "cell_type": "markdown",
   "metadata": {},
   "source": [
    "# Compulsory Task 2: Data Visualisation (Wine Dataset)"
   ]
  },
  {
   "cell_type": "code",
   "execution_count": null,
   "metadata": {},
   "outputs": [],
   "source": [
    "import pandas as pd\n",
    "import matplotlib.pyplot as plt\n",
    "import seaborn as sns"
   ]
  },
  {
   "cell_type": "code",
   "execution_count": null,
   "metadata": {},
   "outputs": [],
   "source": [
    "# Load the wine dataset\n",
    "wine_df = pd.read_csv(\"wine.csv\")\n",
    "wine_df.head()"
   ]
  },
  {
   "cell_type": "code",
   "execution_count": null,
   "metadata": {},
   "outputs": [],
   "source": [
    "# Basic information\n",
    "wine_df.info()"
   ]
  },
  {
   "cell_type": "code",
   "execution_count": null,
   "metadata": {},
   "outputs": [],
   "source": [
    "# 1. Histogram of alcohol content\n",
    "plt.figure(figsize=(8, 6))\n",
    "sns.histplot(wine_df['alcohol'], kde=True, color='purple')\n",
    "plt.title('Distribution of Alcohol Content in Wine')\n",
    "plt.xlabel('Alcohol %')\n",
    "plt.ylabel('Frequency')\n",
    "plt.tight_layout()\n",
    "plt.show()"
   ]
  },
  {
   "cell_type": "code",
   "execution_count": null,
   "metadata": {},
   "outputs": [],
   "source": [
    "# 2. Boxplot of wine quality by alcohol level\n",
    "plt.figure(figsize=(10, 6))\n",
    "sns.boxplot(x='quality', y='alcohol', data=wine_df, palette='Set2')\n",
    "plt.title('Alcohol Content by Wine Quality')\n",
    "plt.xlabel('Wine Quality')\n",
    "plt.ylabel('Alcohol %')\n",
    "plt.tight_layout()\n",
    "plt.show()"
   ]
  },
  {
   "cell_type": "code",
   "execution_count": null,
   "metadata": {},
   "outputs": [],
   "source": [
    "# 3. Correlation heatmap of numerical features\n",
    "plt.figure(figsize=(12, 8))\n",
    "corr = wine_df.corr()\n",
    "sns.heatmap(corr, annot=True, cmap='coolwarm', fmt='.2f')\n",
    "plt.title('Correlation Heatmap of Wine Dataset')\n",
    "plt.tight_layout()\n",
    "plt.show()"
   ]
  },
  {
   "cell_type": "code",
   "execution_count": null,
   "metadata": {},
   "outputs": [],
   "source": [
    "# 4. Scatterplot of alcohol vs density\n",
    "plt.figure(figsize=(8, 6))\n",
    "sns.scatterplot(data=wine_df, x='alcohol', y='density', hue='quality', palette='viridis')\n",
    "plt.title('Alcohol vs Density by Wine Quality')\n",
    "plt.xlabel('Alcohol %')\n",
    "plt.ylabel('Density')\n",
    "plt.tight_layout()\n",
    "plt.show()"
   ]
  },
  {
   "cell_type": "code",
   "execution_count": null,
   "metadata": {},
   "outputs": [],
   "source": [
    "# 5. Pairplot for selected features\n",
    "selected_features = ['alcohol', 'pH', 'density', 'residual sugar', 'quality']\n",
    "sns.pairplot(wine_df[selected_features], hue='quality', palette='muted')\n",
    "plt.suptitle('Pairplot of Selected Features', y=1.02)\n",
    "plt.tight_layout()\n",
    "plt.show()"
   ]
  }
 ],
 "metadata": {
  "kernelspec": {
   "display_name": "Python 3",
   "language": "python",
   "name": "python3"
  },
  "language_info": {
   "name": "python",
   "version": "3.x"
  }
 },
 "nbformat": 4,
 "nbformat_minor": 5
}
