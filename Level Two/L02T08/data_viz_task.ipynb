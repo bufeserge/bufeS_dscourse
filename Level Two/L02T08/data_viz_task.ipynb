{
 "cells": [
  {
   "cell_type": "markdown",
   "metadata": {},
   "source": [
    "# Compulsory Task 1: Data Visualisation (Cars93 Dataset)"
   ]
  },
  {
   "cell_type": "code",
   "execution_count": null,
   "metadata": {},
   "outputs": [],
   "source": [
    "import pandas as pd\n",
    "import matplotlib.pyplot as plt\n",
    "import seaborn as sns"
   ]
  },
  {
   "cell_type": "code",
   "execution_count": null,
   "metadata": {},
   "outputs": [],
   "source": [
    "# Load the Cars93 dataset\n",
    "cars_df = pd.read_csv(\"Cars93.csv\")\n",
    "cars_df.head()"
   ]
  },
  {
   "cell_type": "code",
   "execution_count": null,
   "metadata": {},
   "outputs": [],
   "source": [
    "# 1. Bar chart of car types\n",
    "plt.figure(figsize=(10, 6))\n",
    "cars_df['Type'].value_counts().plot(kind='bar', color='skyblue')\n",
    "plt.title('Count of Car Types')\n",
    "plt.xlabel('Car Type')\n",
    "plt.ylabel('Frequency')\n",
    "plt.xticks(rotation=45)\n",
    "plt.tight_layout()\n",
    "plt.show()"
   ]
  },
  {
   "cell_type": "code",
   "execution_count": null,
   "metadata": {},
   "outputs": [],
   "source": [
    "# 2. Boxplot of horsepower by car type\n",
    "plt.figure(figsize=(10, 6))\n",
    "sns.boxplot(x='Type', y='Horsepower', data=cars_df, palette='Set2')\n",
    "plt.title('Horsepower by Car Type')\n",
    "plt.xlabel('Car Type')\n",
    "plt.ylabel('Horsepower')\n",
    "plt.xticks(rotation=45)\n",
    "plt.tight_layout()\n",
    "plt.show()"
   ]
  },
  {
   "cell_type": "code",
   "execution_count": null,
   "metadata": {},
   "outputs": [],
   "source": [
    "# 3. Histogram of miles per gallon (city)\n",
    "plt.figure(figsize=(8, 6))\n",
    "sns.histplot(cars_df['MPG.city'], bins=15, kde=True, color='salmon')\n",
    "plt.title('Distribution of MPG (City)')\n",
    "plt.xlabel('Miles Per Gallon (City)')\n",
    "plt.ylabel('Count')\n",
    "plt.tight_layout()\n",
    "plt.show()"
   ]
  },
  {
   "cell_type": "code",
   "execution_count": null,
   "metadata": {},
   "outputs": [],
   "source": [
    "# 4. Scatterplot of price vs horsepower\n",
    "plt.figure(figsize=(10, 6))\n",
    "sns.scatterplot(data=cars_df, x='Horsepower', y='Price', hue='Type', palette='viridis')\n",
    "plt.title('Price vs Horsepower by Car Type')\n",
    "plt.xlabel('Horsepower')\n",
    "plt.ylabel('Price (in $1000s)')\n",
    "plt.legend(title='Car Type', bbox_to_anchor=(1.05, 1), loc='upper left')\n",
    "plt.tight_layout()\n",
    "plt.show()"
   ]
  },
  {
   "cell_type": "code",
   "execution_count": null,
   "metadata": {},
   "outputs": [],
   "source": [
    "# 5. Heatmap of correlation between numerical variables\n",
    "plt.figure(figsize=(12, 8))\n",
    "corr_matrix = cars_df.select_dtypes(include='number').corr()\n",
    "sns.heatmap(corr_matrix, annot=True, cmap='coolwarm', fmt='.2f')\n",
    "plt.title('Correlation Heatmap of Car Features')\n",
    "plt.tight_layout()\n",
    "plt.show()"
   ]
  }
 ],
 "metadata": {
  "kernelspec": {
   "display_name": "Python 3",
   "language": "python",
   "name": "python3"
  },
  "language_info": {
   "name": "python",
   "version": "3.x"
  }
 },
 "nbformat": 4,
 "nbformat_minor": 5
}
